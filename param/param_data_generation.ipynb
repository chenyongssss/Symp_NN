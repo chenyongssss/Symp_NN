{
 "cells": [
  {
   "cell_type": "code",
   "execution_count": 1,
   "metadata": {
    "id": "rnieemEWZB3W",
    "tags": []
   },
   "outputs": [
    {
     "name": "stderr",
     "output_type": "stream",
     "text": [
      "2025-08-19 07:33:31.473810: E external/local_xla/xla/stream_executor/cuda/cuda_dnn.cc:9261] Unable to register cuDNN factory: Attempting to register factory for plugin cuDNN when one has already been registered\n",
      "2025-08-19 07:33:31.473836: E external/local_xla/xla/stream_executor/cuda/cuda_fft.cc:607] Unable to register cuFFT factory: Attempting to register factory for plugin cuFFT when one has already been registered\n",
      "2025-08-19 07:33:31.475067: E external/local_xla/xla/stream_executor/cuda/cuda_blas.cc:1515] Unable to register cuBLAS factory: Attempting to register factory for plugin cuBLAS when one has already been registered\n",
      "2025-08-19 07:33:31.482298: I tensorflow/core/platform/cpu_feature_guard.cc:182] This TensorFlow binary is optimized to use available CPU instructions in performance-critical operations.\n",
      "To enable the following instructions: AVX2 FMA, in other operations, rebuild TensorFlow with the appropriate compiler flags.\n",
      "2025-08-19 07:33:33.806228: W tensorflow/compiler/tf2tensorrt/utils/py_utils.cc:38] TF-TRT Warning: Could not find TensorRT\n"
     ]
    }
   ],
   "source": [
    "# periodic\n",
    "\n",
    "import numpy as np\n",
    "import matplotlib.pyplot as plt\n",
    "import sys\n",
    "import time\n",
    "import os\n",
    "\n",
    "\n"
   ]
  },
  {
   "cell_type": "code",
   "execution_count": 2,
   "metadata": {
    "id": "DT4OEAtvZXW1",
    "tags": []
   },
   "outputs": [
    {
     "name": "stdout",
     "output_type": "stream",
     "text": [
      "/global/u1/c/chen123/param_linear\n"
     ]
    }
   ],
   "source": [
    "\n",
    "\n",
    "\n",
    "\n",
    "cwd = os.getcwd()   # the current directory\n",
    "print(cwd)\n",
    "\n",
    "\n",
    "\n",
    "\n"
   ]
  },
  {
   "cell_type": "markdown",
   "metadata": {},
   "source": [
    "$u_{tt} = k(w)u_{xx}, k(w) = c^2 \\left(\\sum_{l=1}^{4}\\frac{1}{l^2}w_l\\right)$"
   ]
  },
  {
   "cell_type": "code",
   "execution_count": 3,
   "metadata": {
    "id": "77ibOEJNZa4P",
    "tags": []
   },
   "outputs": [
    {
     "name": "stdout",
     "output_type": "stream",
     "text": [
      "final time is 3.0\n",
      "simulation time step is 0.01\n",
      "flow map time step is 0.06\n"
     ]
    }
   ],
   "source": [
    "n_sample = 625\n",
    "example_time_steps = 6\n",
    "n_time_steps = 300\n",
    "n_time_skip = 6\n",
    "\n",
    "\n",
    "Nx = 200\n",
    "N1 = Nx\n",
    "\n",
    "L = 1.\n",
    "c = .1\n",
    "T = 1.23\n",
    "K = 30\n",
    "\n",
    "\n",
    "dx = L/Nx\n",
    "dt = 0.01  # cfl = c*(dt/dx) ,c = sqrt(k(w)), k_max = 0.14246\n",
    "\n",
    "x = np.arange(Nx)*dx\n",
    "NNc = 11\n",
    "\n",
    "# generate the parameters config\n",
    "c2 = 0.1\n",
    "w_all = np.linspace(0,1,5)\n",
    "k_w = np.zeros((5,5,5,5))\n",
    "for i in range(5):\n",
    "    for j in range(5):\n",
    "        for k in range(5):\n",
    "            for p in range(5):\n",
    "                k_w[i,j,k,p] = c2*(w_all[i]+w_all[j]/4+w_all[k]/9+w_all[p]/16)\n",
    "k_w = k_w.reshape(-1,1)\n",
    "                \n",
    "                \n",
    "\n",
    "def init(s):\n",
    "    if s <= 1:\n",
    "        return 1.-1.5*s**2.+0.75*s**3.\n",
    "    elif 1<s<2:\n",
    "\n",
    "        return 0.25*(2.-s)**3.\n",
    "    return 0.\n",
    "\n",
    "\n",
    "print(f'final time is {dt*n_time_steps}')\n",
    "print(f'simulation time step is {dt}')\n",
    "print(f'flow map time step is {dt*n_time_skip}')\n",
    "\n",
    "\n",
    "Z = np.array([])\n",
    "\n",
    "# loop for sample\n",
    "\n",
    "\n",
    "vinit = np.vectorize(init)\n",
    "\n",
    "# x0 = 0.5 + np.random.uniform(-0.2,0.2,size=n_sample)\n",
    "# a0 = np.random.uniform(7.,9.,size=n_sample)\n",
    "# w_all = np.random.uniform(1,2,size=n_sample)\n",
    "\n",
    "z_list = []\n",
    "p_list = []\n",
    "q_list = []\n",
    "\n",
    "for w in k_w:\n",
    "    q = vinit(10*np.abs(x-0.5))\n",
    "    p = np.zeros(N1, dtype=np.float64)\n",
    "    z = np.concatenate([q, p], axis=0)\n",
    "\n",
    "    z_list.append(z)\n",
    "    p_list.append(p)\n",
    "    q_list.append(q)\n",
    "\n",
    "z = np.array(z_list) # convert list to numpy ndarray\n",
    "p = np.array(p_list) # convert list to numpy ndarray\n",
    "q = np.array(q_list) # convert list to numpy ndarray\n",
    "\n",
    "# Z = z.copy()[np.newaxis,...]\n",
    "Z_list = []\n",
    "Z_list.append(z)\n",
    "\n",
    "#print(p.shape)"
   ]
  },
  {
   "cell_type": "code",
   "execution_count": 5,
   "metadata": {
    "tags": []
   },
   "outputs": [
    {
     "data": {
      "image/png": "[encoded data removed]",
      "text/plain": [
       "<Figure size 640x480 with 1 Axes>"
      ]
     },
     "metadata": {},
     "output_type": "display_data"
    }
   ],
   "source": [
    "plt.figure()\n",
    "# print(n_time_steps)\n",
    "for i in range(0,5):\n",
    "\n",
    "    plt.plot(x,q[i*10,:Nx])\n",
    "plt.xlabel('x',fontsize=14)\n",
    "plt.ylabel('q',fontsize=14)\n",
    "plt.show()\n",
    "\n"
   ]
  },
  {
   "cell_type": "code",
   "execution_count": 6,
   "metadata": {
    "id": "77ibOEJNZa4P",
    "tags": []
   },
   "outputs": [
    {
     "name": "stdout",
     "output_type": "stream",
     "text": [
      "(300, 625, 400)\n"
     ]
    }
   ],
   "source": [
    "for i in range(1,n_time_steps):\n",
    "\n",
    "\n",
    "    q0 = q + 0.5*dt*p\n",
    "\n",
    "    p = p + k_w*dt*(np.roll(q0,-1,axis=1) - 2.*q0 + np.roll(q0,1,axis=1))/dx**2.\n",
    "\n",
    "    q = q0 + 0.5*dt*p;\n",
    "\n",
    "    \n",
    "    z = np.concatenate([q, p], axis=1)\n",
    "\n",
    "    #ham[i] = 0.5*dx*np.dot(p,p) + c2*0.5/dx*(np.dot(q-np.roll(q,1),q-np.roll(q,1)))\n",
    "\n",
    "    # Z = np.concatenate((Z, z[np.newaxis,...]))\n",
    "    Z_list.append(z)\n",
    "\n",
    "   \n",
    "\n",
    "Z = np.array(Z_list)\n",
    "\n",
    "print(Z.shape)\n",
    "\n",
    "\n",
    "\n",
    "# # Z = Z[::n_time_skip,:,:]\n",
    "Z = Z[::n_time_skip]\n",
    "n_time_steps1 = Z.shape[0]\n",
    "\n",
    "\n",
    "output_list = []\n",
    "for shift in range(1, example_time_steps+1):\n",
    "# output time series, starting from each single time step\n",
    "\n",
    "    output_slice = Z[shift: n_time_steps1 - example_time_steps + shift]\n",
    "# merge time and sample dimension as required by training\n",
    "    n_time, _, n_x = output_slice.shape\n",
    "    output_slice = np.reshape(output_slice, [n_sample * n_time, n_x])\n",
    "    output_list.append(output_slice)\n",
    "\n",
    "labels = np.stack(output_list, axis=1)\n",
    "\n",
    "features = Z[:-example_time_steps,:,:]\n",
    "features = features.reshape([n_time*n_sample,N1*2])\n",
    "\n",
    "\n",
    "\n",
    "\n",
    "\n",
    "\n",
    "\n",
    "# the shape of input training data is (n_time, n_sample, n_x) or (n_time * n_sample, n_x)\n",
    "\n"
   ]
  },
  {
   "cell_type": "code",
   "execution_count": 7,
   "metadata": {
    "tags": []
   },
   "outputs": [
    {
     "data": {
      "text/plain": [
       "(50, 625, 400)"
      ]
     },
     "execution_count": 7,
     "metadata": {},
     "output_type": "execute_result"
    }
   ],
   "source": [
    "Z.shape"
   ]
  },
  {
   "cell_type": "code",
   "execution_count": 8,
   "metadata": {
    "tags": []
   },
   "outputs": [],
   "source": [
    "k_w1 = np.repeat(k_w,repeats = 44, axis=1)\n"
   ]
  },
  {
   "cell_type": "code",
   "execution_count": 9,
   "metadata": {
    "tags": []
   },
   "outputs": [
    {
     "data": {
      "text/plain": [
       "(625, 44)"
      ]
     },
     "execution_count": 9,
     "metadata": {},
     "output_type": "execute_result"
    }
   ],
   "source": [
    "k_w1.shape"
   ]
  },
  {
   "cell_type": "code",
   "execution_count": null,
   "metadata": {
    "tags": []
   },
   "outputs": [
    {
     "name": "stdout",
     "output_type": "stream",
     "text": [
      "Wave_bump_peri_features_c_0.1_Nx_200_sample_625_timesteps_44_dt_3.0\n"
     ]
    }
   ],
   "source": [
    "data_features = f\"Wave_bump_peri_features_c_{c}_Nx_{N1}_sample_{n_sample}_timesteps_{n_time}_dt_{dt*n_time_skip*n_time_steps1}\"\n",
    "data_labels = f\"Wave_bump_peri_labels_c_{c}_Nx_{N1}_sample_{n_sample}_timesteps_{n_time}_dt_{dt*n_time_skip*n_time_steps1}\"\n",
    "\n",
    "\n",
    "# ensure the data directory exists\n",
    "data_dir = os.path.join(cwd, 'data')\n",
    "os.makedirs(data_dir, exist_ok=True)  # create the data directory if it doesn't exist\n",
    "features_file = os.path.join(cwd, \"data\", data_features + \".npy\")\n",
    "labels_file = os.path.join(cwd, \"data\", data_labels + \".npy\")\n",
    "\n",
    "print(data_features)\n",
    "\n",
    "target_file = np.save(features_file, features)\n",
    "target_file = np.save(labels_file, labels)"
   ]
  },
  {
   "cell_type": "code",
   "execution_count": 17,
   "metadata": {
    "tags": []
   },
   "outputs": [],
   "source": [
    "if not os.path.exists(features_file):\n",
    "    os.makedirs(features_file)\n",
    "if not os.path.exists(labels_file):\n",
    "    os.makedirs(labels_file)"
   ]
  },
  {
   "cell_type": "code",
   "execution_count": 11,
   "metadata": {
    "tags": []
   },
   "outputs": [],
   "source": [
    "target_file = np.save(data_features + \".npy\",features)\n",
    "target_file = np.save(data_labels + \".npy\",labels)"
   ]
  }
 ],
 "metadata": {
  "colab": {
   "authorship_tag": "ABX9TyNQJ9yZkNNSBsyqMSKzx5cK",
   "provenance": []
  },
  "kernelspec": {
   "display_name": "tensorflow-2.15.0",
   "language": "python",
   "name": "tensorflow-2.15.0"
  },
  "language_info": {
   "codemirror_mode": {
    "name": "ipython",
    "version": 3
   },
   "file_extension": ".py",
   "mimetype": "text/x-python",
   "name": "python",
   "nbconvert_exporter": "python",
   "pygments_lexer": "ipython3",
   "version": "3.9.18"
  }
 },
 "nbformat": 4,
 "nbformat_minor": 4
}
