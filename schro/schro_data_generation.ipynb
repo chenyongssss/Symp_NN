{
 "cells": [
  {
   "cell_type": "code",
   "execution_count": null,
   "metadata": {
    "id": "rnieemEWZB3W",
    "tags": []
   },
   "outputs": [],
   "source": [
    "# periodic\n",
    "\n",
    "import numpy as np\n",
    "import matplotlib.pyplot as plt\n",
    "import sys\n",
    "import time\n",
    "import os\n",
    "\n",
    "\n"
   ]
  },
  {
   "cell_type": "code",
   "execution_count": null,
   "metadata": {
    "tags": []
   },
   "outputs": [],
   "source": [
    "cwd = os.getcwd()   # the current directory\n",
    "print(cwd)\n",
    "\n"
   ]
  },
  {
   "cell_type": "markdown",
   "metadata": {},
   "source": [
    "$u_0(x) = \\frac{\\sqrt{2}}{cosh(x-x_0)} exp(i\\frac{c(x-x_0)}{2})$"
   ]
  },
  {
   "cell_type": "code",
   "execution_count": null,
   "metadata": {
    "tags": []
   },
   "outputs": [],
   "source": []
  },
  {
   "cell_type": "code",
   "execution_count": null,
   "metadata": {
    "id": "77ibOEJNZa4P",
    "tags": []
   },
   "outputs": [],
   "source": [
    "n_sample = 500\n",
    "example_time_steps = 6\n",
    "n_time_steps = 2000\n",
    "n_time_skip = 10\n",
    "\n",
    "\n",
    "Nx = 256\n",
    "N1 = Nx\n",
    "\n",
    "l = 0.11\n",
    "L = 2*np.pi/l\n",
    "\n",
    "# c = .1\n",
    "# T = 1.23\n",
    "# K = 30\n",
    "\n",
    "\n",
    "dx = L/Nx\n",
    "dt = 0.01  # cfl = c*(dt/dx) ,c = sqrt(k(w)), k_max = 0.14246\n",
    "\n",
    "x = np.arange(Nx)*dx-L/2\n",
    "NNc = 11\n",
    "\n",
    "\n",
    "\n",
    "np.random.seed(123)\n",
    "eps_all = np.random.uniform(0.9,1.1,size = n_sample)    #eps_all, If the memory is insufficient, can generate it in segments  \n",
    "\n",
    "\n",
    "print(f'final time is {dt*n_time_steps}')\n",
    "print(f'simulation time step is {dt}')\n",
    "print(f'flow map time step is {dt*n_time_skip}')\n",
    "\n",
    "\n",
    "Z = np.array([])\n",
    "\n",
    "# loop for sample\n",
    "\n",
    "\n",
    "# vinit = np.vectorize(init)\n",
    "\n",
    "# x0 = 0.5 + np.random.uniform(-0.2,0.2,size=n_sample)\n",
    "# a0 = np.random.uniform(7.,9.,size=n_sample)\n",
    "# w_all = np.random.uniform(1,2,size=n_sample)\n",
    "\n",
    "z_list = []\n",
    "p_list = []\n",
    "q_list = []\n",
    "\n",
    "c = 1\n",
    "x0 = 0\n",
    "for eps in eps_all:\n",
    "    q = np.sqrt(2)/np.cosh(x-x0)*np.sin(c*(x-x0)/2)\n",
    "    p = np.sqrt(2)/np.cosh(x-x0)*np.cos(c*(x-x0)/2)\n",
    "    z = np.concatenate([p, q], axis=0)\n",
    "\n",
    "    z_list.append(z)\n",
    "    p_list.append(p)\n",
    "    q_list.append(q)\n",
    "\n",
    "z = np.array(z_list) # convert list to numpy ndarray\n",
    "p = np.array(p_list) # convert list to numpy ndarray\n",
    "q = np.array(q_list) # convert list to numpy ndarray\n",
    "\n",
    "# Z = z.copy()[np.newaxis,...]\n",
    "Z_list = []\n",
    "Z_list.append(z)\n",
    "\n",
    "#print(p.shape)"
   ]
  },
  {
   "cell_type": "code",
   "execution_count": null,
   "metadata": {
    "tags": []
   },
   "outputs": [],
   "source": [
    "from scipy.optimize import fsolve"
   ]
  },
  {
   "cell_type": "code",
   "execution_count": null,
   "metadata": {
    "tags": []
   },
   "outputs": [],
   "source": [
    "def solve_p_half(p_n, q_n, eps_all, dt):\n",
    "    p_half = np.zeros_like(p_n)\n",
    "\n",
    "    for i in range(len(p_n)):\n",
    "        def F(p_half_single):\n",
    "            return nonlinear_step1(eps_all[i], p_half_single.reshape(1, -1), \n",
    "                                   p_n[i:i+1], q_n[i:i+1],dt).flatten()\n",
    "        p_half[i] = fsolve(F, p_n[i], xtol=1e-12, maxfev=1000)\n",
    "\n",
    "    return p_half\n",
    "\n",
    "def nonlinear_step1(eps, p_half, p_n, q_n, dt):\n",
    "    return (p_half - p_n + \n",
    "            (dt/2) * (periodic_laplacian(q_n) +\n",
    "                      eps * (p_half**2 + q_n**2) * q_n))\n",
    "\n",
    "def periodic_laplacian(y):\n",
    "    return (np.roll(y, -1, axis=1) - 2 * y + np.roll(y, 1, axis=1)) / (dx**2)"
   ]
  },
  {
   "cell_type": "code",
   "execution_count": null,
   "metadata": {},
   "outputs": [],
   "source": [
    "def u(x,t,eps):\n",
    "    \n",
    "    # x0 = 0\n",
    "    # c = 1\n",
    "    amp = np.sqrt(2/eps) * 1./np.cosh(x-x0-c*t)\n",
    "    \n",
    "    phase = c*x/2 - (c**2/4-1)*t\n",
    "    real_part = amp * np.cos(phase)\n",
    "    imag_part = amp * np.sin(phase)\n",
    "    return real_part, imag_part"
   ]
  },
  {
   "cell_type": "code",
   "execution_count": null,
   "metadata": {
    "tags": []
   },
   "outputs": [],
   "source": [
    "def solve_q_new(q_n, p_half, eps_all, dt):\n",
    "    q_new = np.zeros_like(q_n)\n",
    "    \n",
    "    for i in range(len(q_n)):\n",
    "        def F(q_new_single):\n",
    "            \n",
    "            q_new_reshaped = q_new_single.reshape(1, -1)\n",
    "            \n",
    "           \n",
    "            p_xx = periodic_laplacian(p_half[i:i+1])\n",
    "            \n",
    "        \n",
    "            nonlinear_term1 = eps_all[i] * ((q_n[i:i+1])**2 + (p_half[i:i+1])**2) * p_half[i:i+1]\n",
    "            nonlinear_term2 = eps_all[i] * ((q_new_reshaped)**2 + (p_half[i:i+1])**2) * p_half[i:i+1]\n",
    "            \n",
    "          \n",
    "            residual = (q_new_reshaped - q_n[i:i+1] - \n",
    "                       (dt/2) * (p_xx + nonlinear_term1) -\n",
    "                       (dt/2) * (p_xx + nonlinear_term2))\n",
    "            \n",
    "            return residual.flatten()\n",
    "        \n",
    "        # \n",
    "        q_new[i] = fsolve(F, q_n[i], xtol=1e-12, maxfev=1000)\n",
    "    \n",
    "    return q_new"
   ]
  },
  {
   "cell_type": "code",
   "execution_count": null,
   "metadata": {
    "tags": []
   },
   "outputs": [],
   "source": [
    "q.shape"
   ]
  },
  {
   "cell_type": "markdown",
   "metadata": {},
   "source": [
    "### batch"
   ]
  },
  {
   "cell_type": "markdown",
   "metadata": {},
   "source": [
    "$q_t = p_{xx}+\\epsilon (q^2+p^2)p, p_t= -q_{xx}-\\epsilon(q^2+p^2)q$"
   ]
  },
  {
   "cell_type": "code",
   "execution_count": null,
   "metadata": {
    "id": "77ibOEJNZa4P",
    "tags": []
   },
   "outputs": [],
   "source": [
    "for i in range(1, 1+n_time_steps):\n",
    "\n",
    "    # for this nonlinear case, we need to use Newton iteration\n",
    "    #step 1: obtain p^{n+1/2}\n",
    "    # p_init = p + dt/4*(-periodic_laplacian(q) - eps_all * (p**2 + q**2) * q)\n",
    "    \n",
    "    p_half = solve_p_half(p, q, eps_all, dt)\n",
    "    # Step 2: Update q^{n+1}\n",
    "    # p_xx = periodic_laplacian(p_half)\n",
    "    # nonlinear_term = eps_all * (p_half**2 + q**2) * p_half\n",
    "    # q = q + dt * (p_xx + nonlinear_term)\n",
    "    q = solve_q_new(q, p_half, eps_all, dt)\n",
    "    \n",
    "    # Step 3: Update p^{n+1}\n",
    "    q_xx = periodic_laplacian(q)\n",
    "    nonlinear_term = eps_all * (p_half**2 + q**2) * q\n",
    "    p = p_half + (dt/2) * (-q_xx - nonlinear_term)\n",
    "    z = np.concatenate([p, q], axis=1)\n",
    "\n",
    "    Z_list.append(z)\n",
    "\n",
    "Z = np.array(Z_list)\n",
    "\n",
    "print(Z.shape)\n",
    "\n",
    "\n",
    "\n",
    "# # Z = Z[::n_time_skip,:,:]\n",
    "# Z = Z[::n_time_skip]\n",
    "\n",
    "\n",
    "\n",
    "\n",
    "\n",
    "\n",
    "\n",
    "# the shape of input training data is (n_time, n_sample, n_x) or (n_time * n_sample, n_x)\n",
    "\n"
   ]
  },
  {
   "cell_type": "code",
   "execution_count": null,
   "metadata": {
    "tags": []
   },
   "outputs": [],
   "source": [
    "Z = np.array(Z_list)\n",
    "Z.shape"
   ]
  },
  {
   "cell_type": "code",
   "execution_count": null,
   "metadata": {
    "tags": []
   },
   "outputs": [],
   "source": [
    "n_time_steps1 = Z.shape[0]\n",
    "\n",
    "\n",
    "output_list = []\n",
    "for shift in range(1, example_time_steps+1):\n",
    "# output time series, starting from each single time step\n",
    "\n",
    "    output_slice = Z[shift: n_time_steps1 - example_time_steps + shift]\n",
    "# merge time and sample dimension as required by training\n",
    "    n_time, _, n_x = output_slice.shape\n",
    "    output_slice = np.reshape(output_slice, [n_sample * n_time, n_x])\n",
    "    output_list.append(output_slice)\n",
    "\n",
    "labels = np.stack(output_list, axis=1)\n",
    "\n",
    "features = Z[:-example_time_steps,:,:]\n",
    "features = features.reshape([n_time*n_sample,N1*2])"
   ]
  },
  {
   "cell_type": "code",
   "execution_count": null,
   "metadata": {
    "tags": []
   },
   "outputs": [],
   "source": [
    "data_features = f\"Schrodinger_features_Nx_{N1}_sample_{n_sample}_timesteps_{n_time}_dt_{dt*2*n_time_skip}\"\n",
    "data_labels = f\"Schrodinger_labels_Nx_{N1}_sample_{n_sample}_timesteps_{n_time}_dt_{dt*2*n_time_skip}\"\n",
    "# ensure the data directory exists\n",
    "data_dir = os.path.join(cwd, 'data')\n",
    "os.makedirs(data_dir, exist_ok=True)  # create the data directory if it doesn't exist\n",
    "\n",
    "features_file = os.path.join(cwd, \"data\", data_features + \".npy\")\n",
    "labels_file = os.path.join(cwd, \"data\", data_labels + \".npy\")\n",
    "\n",
    "print(data_features)\n",
    "\n"
   ]
  },
  {
   "cell_type": "code",
   "execution_count": null,
   "metadata": {
    "tags": []
   },
   "outputs": [],
   "source": [
    "eps_all1 = np.concatenate([eps_all]*95,axis=1)\n",
    "eps_all1 = eps_all1.T.reshape(-1,1)"
   ]
  },
  {
   "cell_type": "code",
   "execution_count": null,
   "metadata": {
    "tags": []
   },
   "outputs": [],
   "source": [
    "features1 = np.concatenate([features,eps_all1],axis=1)# need to save and then use in the training process\n"
   ]
  },
  {
   "cell_type": "code",
   "execution_count": null,
   "metadata": {
    "tags": []
   },
   "outputs": [],
   "source": [
    "# save training data\n",
    "target_file = np.save(data_features + \".npy\",features1)\n",
    "target_file = np.save(data_labels + \".npy\",labels)"
   ]
  },
  {
   "cell_type": "code",
   "execution_count": null,
   "metadata": {},
   "outputs": [],
   "source": []
  },
  {
   "cell_type": "code",
   "execution_count": null,
   "metadata": {},
   "outputs": [],
   "source": []
  }
 ],
 "metadata": {
  "colab": {
   "authorship_tag": "ABX9TyNQJ9yZkNNSBsyqMSKzx5cK",
   "provenance": []
  },
  "kernelspec": {
   "display_name": "tensorflow-2.15.0",
   "language": "python",
   "name": "tensorflow-2.15.0"
  },
  "language_info": {
   "codemirror_mode": {
    "name": "ipython",
    "version": 3
   },
   "file_extension": ".py",
   "mimetype": "text/x-python",
   "name": "python",
   "nbconvert_exporter": "python",
   "pygments_lexer": "ipython3",
   "version": "3.9.18"
  }
 },
 "nbformat": 4,
 "nbformat_minor": 4
}
