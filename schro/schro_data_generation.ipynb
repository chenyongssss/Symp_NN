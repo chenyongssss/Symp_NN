{
 "cells": [
  {
   "cell_type": "code",
   "execution_count": 1,
   "metadata": {
    "id": "rnieemEWZB3W",
    "tags": []
   },
   "outputs": [
    {
     "name": "stderr",
     "output_type": "stream",
     "text": [
      "2024-10-30 01:03:44.148392: E external/local_xla/xla/stream_executor/cuda/cuda_dnn.cc:9261] Unable to register cuDNN factory: Attempting to register factory for plugin cuDNN when one has already been registered\n",
      "2024-10-30 01:03:44.148417: E external/local_xla/xla/stream_executor/cuda/cuda_fft.cc:607] Unable to register cuFFT factory: Attempting to register factory for plugin cuFFT when one has already been registered\n",
      "2024-10-30 01:03:44.149537: E external/local_xla/xla/stream_executor/cuda/cuda_blas.cc:1515] Unable to register cuBLAS factory: Attempting to register factory for plugin cuBLAS when one has already been registered\n",
      "2024-10-30 01:03:44.156357: I tensorflow/core/platform/cpu_feature_guard.cc:182] This TensorFlow binary is optimized to use available CPU instructions in performance-critical operations.\n",
      "To enable the following instructions: AVX2 FMA, in other operations, rebuild TensorFlow with the appropriate compiler flags.\n",
      "2024-10-30 01:03:47.210727: W tensorflow/compiler/tf2tensorrt/utils/py_utils.cc:38] TF-TRT Warning: Could not find TensorRT\n"
     ]
    }
   ],
   "source": [
    "# periodic\n",
    "\n",
    "import numpy as np\n",
    "import matplotlib.pyplot as plt\n",
    "import sys\n",
    "import time\n",
    "import os\n",
    "\n",
    "\n"
   ]
  },
  {
   "cell_type": "code",
   "execution_count": 2,
   "metadata": {
    "tags": []
   },
   "outputs": [],
   "source": [
    "cwd = os.getcwd()   # the current directory\n",
    "print(cwd)\n",
    "\n"
   ]
  },
  {
   "cell_type": "markdown",
   "metadata": {},
   "source": [
    "$u_0(x) = \\frac{\\sqrt{2}}{cosh(x-x_0)} exp(i\\frac{c(x-x_0)}{2})$"
   ]
  },
  {
   "cell_type": "code",
   "execution_count": 35,
   "metadata": {
    "tags": []
   },
   "outputs": [],
   "source": []
  },
  {
   "cell_type": "code",
   "execution_count": 6,
   "metadata": {
    "id": "77ibOEJNZa4P",
    "tags": []
   },
   "outputs": [
    {
     "name": "stdout",
     "output_type": "stream",
     "text": [
      "final time is 20.0\n",
      "simulation time step is 0.01\n",
      "flow map time step is 0.1\n"
     ]
    }
   ],
   "source": [
    "n_sample = 500\n",
    "example_time_steps = 6\n",
    "n_time_steps = 2000\n",
    "n_time_skip = 10\n",
    "\n",
    "\n",
    "Nx = 256\n",
    "N1 = Nx\n",
    "\n",
    "l = 0.11\n",
    "L = 2*np.pi/l\n",
    "\n",
    "# c = .1\n",
    "# T = 1.23\n",
    "# K = 30\n",
    "\n",
    "\n",
    "dx = L/Nx\n",
    "dt = 0.01  # cfl = c*(dt/dx) ,c = sqrt(k(w)), k_max = 0.14246\n",
    "\n",
    "x = np.arange(Nx)*dx-L/2\n",
    "NNc = 11\n",
    "\n",
    "\n",
    "# c_all = np.random.uniform(0.8,1.2,size = n_sample)\n",
    "# x0_all = np.random.uniform(-5.0,5.0,size = n_sample)   \n",
    "np.random.seed(123)\n",
    "eps_all = np.random.uniform(0.9,1.1,size = n_sample)    #eps_all, If the memory is insufficient, can generate it in segments  \n",
    "# eps_all = np.array([1]*n_sample)\n",
    "# def init(s):\n",
    "#     if s <= 1:\n",
    "#         return 1.-1.5*s**2.+0.75*s**3.\n",
    "#     elif 1<s<2:\n",
    "\n",
    "#         return 0.25*(2.-s)**3.\n",
    "#     return 0.\n",
    "\n",
    "\n",
    "print(f'final time is {dt*n_time_steps}')\n",
    "print(f'simulation time step is {dt}')\n",
    "print(f'flow map time step is {dt*n_time_skip}')\n",
    "\n",
    "\n",
    "Z = np.array([])\n",
    "\n",
    "# loop for sample\n",
    "\n",
    "\n",
    "# vinit = np.vectorize(init)\n",
    "\n",
    "# x0 = 0.5 + np.random.uniform(-0.2,0.2,size=n_sample)\n",
    "# a0 = np.random.uniform(7.,9.,size=n_sample)\n",
    "# w_all = np.random.uniform(1,2,size=n_sample)\n",
    "\n",
    "z_list = []\n",
    "p_list = []\n",
    "q_list = []\n",
    "\n",
    "c = 1\n",
    "x0 = 0\n",
    "for eps in eps_all:\n",
    "    q = np.sqrt(2)/np.cosh(x-x0)*np.sin(c*(x-x0)/2)\n",
    "    p = np.sqrt(2)/np.cosh(x-x0)*np.cos(c*(x-x0)/2)\n",
    "    z = np.concatenate([p, q], axis=0)\n",
    "\n",
    "    z_list.append(z)\n",
    "    p_list.append(p)\n",
    "    q_list.append(q)\n",
    "\n",
    "z = np.array(z_list) # convert list to numpy ndarray\n",
    "p = np.array(p_list) # convert list to numpy ndarray\n",
    "q = np.array(q_list) # convert list to numpy ndarray\n",
    "\n",
    "# Z = z.copy()[np.newaxis,...]\n",
    "Z_list = []\n",
    "Z_list.append(z)\n",
    "\n",
    "#print(p.shape)"
   ]
  },
  {
   "cell_type": "code",
   "execution_count": 12,
   "metadata": {
    "tags": []
   },
   "outputs": [],
   "source": [
    "from scipy.optimize import fsolve"
   ]
  },
  {
   "cell_type": "code",
   "execution_count": 13,
   "metadata": {
    "tags": []
   },
   "outputs": [],
   "source": [
    "def solve_p_half(p_n, q_n, eps_all, dt):\n",
    "    p_half = np.zeros_like(p_n)\n",
    "\n",
    "    for i in range(len(p_n)):\n",
    "        def F(p_half_single):\n",
    "            return nonlinear_step1(eps_all[i], p_half_single.reshape(1, -1), \n",
    "                                   p_n[i:i+1], q_n[i:i+1],dt).flatten()\n",
    "        p_half[i] = fsolve(F, p_n[i], xtol=1e-12, maxfev=1000)\n",
    "\n",
    "    return p_half\n",
    "\n",
    "def nonlinear_step1(eps, p_half, p_n, q_n, dt):\n",
    "    return (p_half - p_n + \n",
    "            (dt/2) * (periodic_laplacian(q_n) +\n",
    "                      eps * (p_half**2 + q_n**2) * q_n))\n",
    "\n",
    "def periodic_laplacian(y):\n",
    "    return (np.roll(y, -1, axis=1) - 2 * y + np.roll(y, 1, axis=1)) / (dx**2)"
   ]
  },
  {
   "cell_type": "code",
   "execution_count": 39,
   "metadata": {},
   "outputs": [],
   "source": [
    "def u(x,t,eps):\n",
    "    \n",
    "    # x0 = 0\n",
    "    # c = 1\n",
    "    amp = np.sqrt(2/eps) * 1./np.cosh(x-x0-c*t)\n",
    "     # 计算相位\n",
    "    phase = c*x/2 - (c**2/4-1)*t\n",
    "    real_part = amp * np.cos(phase)\n",
    "    imag_part = amp * np.sin(phase)\n",
    "    return real_part, imag_part"
   ]
  },
  {
   "cell_type": "code",
   "execution_count": 14,
   "metadata": {
    "tags": []
   },
   "outputs": [],
   "source": [
    "def solve_q_new(q_n, p_half, eps_all, dt):\n",
    "    q_new = np.zeros_like(q_n)\n",
    "    \n",
    "    for i in range(len(q_n)):\n",
    "        def F(q_new_single):\n",
    "            # 将q_new_single重塑为2D数组\n",
    "            q_new_reshaped = q_new_single.reshape(1, -1)\n",
    "            \n",
    "            # 计算拉普拉斯项\n",
    "            p_xx = periodic_laplacian(p_half[i:i+1])\n",
    "            \n",
    "            # 计算两个非线性项\n",
    "            nonlinear_term1 = eps_all[i] * ((q_n[i:i+1])**2 + (p_half[i:i+1])**2) * p_half[i:i+1]\n",
    "            nonlinear_term2 = eps_all[i] * ((q_new_reshaped)**2 + (p_half[i:i+1])**2) * p_half[i:i+1]\n",
    "            \n",
    "            # 构造残差方程\n",
    "            residual = (q_new_reshaped - q_n[i:i+1] - \n",
    "                       (dt/2) * (p_xx + nonlinear_term1) -\n",
    "                       (dt/2) * (p_xx + nonlinear_term2))\n",
    "            \n",
    "            return residual.flatten()\n",
    "        \n",
    "        # 使用fsolve求解\n",
    "        q_new[i] = fsolve(F, q_n[i], xtol=1e-12, maxfev=1000)\n",
    "    \n",
    "    return q_new"
   ]
  },
  {
   "cell_type": "code",
   "execution_count": 14,
   "metadata": {
    "tags": []
   },
   "outputs": [
    {
     "data": {
      "text/plain": [
       "(5, 256)"
      ]
     },
     "execution_count": 14,
     "metadata": {},
     "output_type": "execute_result"
    }
   ],
   "source": [
    "q.shape"
   ]
  },
  {
   "cell_type": "markdown",
   "metadata": {},
   "source": [
    "### batch"
   ]
  },
  {
   "cell_type": "markdown",
   "metadata": {},
   "source": [
    "$q_t = p_{xx}+\\epsilon (q^2+p^2)p, p_t= -q_{xx}-\\epsilon(q^2+p^2)q$"
   ]
  },
  {
   "cell_type": "code",
   "execution_count": 15,
   "metadata": {
    "id": "77ibOEJNZa4P",
    "tags": []
   },
   "outputs": [
    {
     "name": "stdout",
     "output_type": "stream",
     "text": [
      "(2001, 100, 512)\n"
     ]
    }
   ],
   "source": [
    "for i in range(1, 1+n_time_steps):\n",
    "\n",
    "\n",
    "    #step 1: obtain p^{n+1/2}\n",
    "    # p_init = p + dt/4*(-periodic_laplacian(q) - eps_all * (p**2 + q**2) * q)\n",
    "    \n",
    "    p_half = solve_p_half(p, q, eps_all, dt)\n",
    "    # Step 2: Update q^{n+1}\n",
    "    # p_xx = periodic_laplacian(p_half)\n",
    "    # nonlinear_term = eps_all * (p_half**2 + q**2) * p_half\n",
    "    # q = q + dt * (p_xx + nonlinear_term)\n",
    "    q = solve_q_new(q, p_half, eps_all, dt)\n",
    "    \n",
    "    # Step 3: Update p^{n+1}\n",
    "    q_xx = periodic_laplacian(q)\n",
    "    nonlinear_term = eps_all * (p_half**2 + q**2) * q\n",
    "    p = p_half + (dt/2) * (-q_xx - nonlinear_term)\n",
    "    z = np.concatenate([p, q], axis=1)\n",
    "\n",
    "    Z_list.append(z)\n",
    "\n",
    "Z = np.array(Z_list)\n",
    "\n",
    "print(Z.shape)\n",
    "\n",
    "\n",
    "\n",
    "# # Z = Z[::n_time_skip,:,:]\n",
    "# Z = Z[::n_time_skip]\n",
    "\n",
    "\n",
    "\n",
    "\n",
    "\n",
    "\n",
    "\n",
    "# the shape of input training data is (n_time, n_sample, n_x) or (n_time * n_sample, n_x)\n",
    "\n"
   ]
  },
  {
   "cell_type": "code",
   "execution_count": 18,
   "metadata": {
    "tags": []
   },
   "outputs": [
    {
     "data": {
      "text/plain": [
       "(2001, 100, 512)"
      ]
     },
     "execution_count": 18,
     "metadata": {},
     "output_type": "execute_result"
    }
   ],
   "source": [
    "Z = np.array(Z_list)\n",
    "Z.shape"
   ]
  },
  {
   "cell_type": "code",
   "execution_count": 47,
   "metadata": {
    "tags": []
   },
   "outputs": [],
   "source": [
    "n_time_steps1 = Z.shape[0]\n",
    "\n",
    "\n",
    "output_list = []\n",
    "for shift in range(1, example_time_steps+1):\n",
    "# output time series, starting from each single time step\n",
    "\n",
    "    output_slice = Z[shift: n_time_steps1 - example_time_steps + shift]\n",
    "# merge time and sample dimension as required by training\n",
    "    n_time, _, n_x = output_slice.shape\n",
    "    output_slice = np.reshape(output_slice, [n_sample * n_time, n_x])\n",
    "    output_list.append(output_slice)\n",
    "\n",
    "labels = np.stack(output_list, axis=1)\n",
    "\n",
    "features = Z[:-example_time_steps,:,:]\n",
    "features = features.reshape([n_time*n_sample,N1*2])"
   ]
  },
  {
   "cell_type": "code",
   "execution_count": null,
   "metadata": {
    "tags": []
   },
   "outputs": [
    {
     "name": "stdout",
     "output_type": "stream",
     "text": [
      "Schrodinger_features_Nx_256_sample_500_timesteps_95_dt_0.2\n"
     ]
    }
   ],
   "source": [
    "data_features = f\"Schrodinger_features_Nx_{N1}_sample_{n_sample}_timesteps_{n_time}_dt_{dt*2*n_time_skip}\"\n",
    "data_labels = f\"Schrodinger_labels_Nx_{N1}_sample_{n_sample}_timesteps_{n_time}_dt_{dt*2*n_time_skip}\"\n",
    "# ensure the data directory exists\n",
    "data_dir = os.path.join(cwd, 'data')\n",
    "os.makedirs(data_dir, exist_ok=True)  # create the data directory if it doesn't exist\n",
    "\n",
    "features_file = os.path.join(cwd, \"data\", data_features + \".npy\")\n",
    "labels_file = os.path.join(cwd, \"data\", data_labels + \".npy\")\n",
    "\n",
    "print(data_features)\n",
    "\n"
   ]
  },
  {
   "cell_type": "code",
   "execution_count": 55,
   "metadata": {
    "tags": []
   },
   "outputs": [
    {
     "data": {
      "text/plain": [
       "(500, 95)"
      ]
     },
     "execution_count": 55,
     "metadata": {},
     "output_type": "execute_result"
    }
   ],
   "source": [
    "eps_all1 = np.concatenate([eps_all]*95,axis=1)\n",
    "eps_all1 = eps_all1.T.reshape(-1,1)"
   ]
  },
  {
   "cell_type": "code",
   "execution_count": 17,
   "metadata": {
    "tags": []
   },
   "outputs": [],
   "source": [
    "if not os.path.exists(features_file):\n",
    "    os.makedirs(features_file)\n",
    "if not os.path.exists(labels_file):\n",
    "    os.makedirs(labels_file)"
   ]
  },
  {
   "cell_type": "code",
   "execution_count": 58,
   "metadata": {
    "tags": []
   },
   "outputs": [
    {
     "data": {
      "text/plain": [
       "(47500, 513)"
      ]
     },
     "execution_count": 58,
     "metadata": {},
     "output_type": "execute_result"
    }
   ],
   "source": [
    "features1 = np.concatenate([features,eps_all1],axis=1)\n"
   ]
  },
  {
   "cell_type": "code",
   "execution_count": 62,
   "metadata": {
    "tags": []
   },
   "outputs": [],
   "source": [
    "target_file = np.save(data_features + \".npy\",features1)\n",
    "target_file = np.save(data_labels + \".npy\",labels)"
   ]
  },
  {
   "cell_type": "code",
   "execution_count": null,
   "metadata": {},
   "outputs": [],
   "source": []
  },
  {
   "cell_type": "code",
   "execution_count": null,
   "metadata": {},
   "outputs": [],
   "source": []
  }
 ],
 "metadata": {
  "colab": {
   "authorship_tag": "ABX9TyNQJ9yZkNNSBsyqMSKzx5cK",
   "provenance": []
  },
  "kernelspec": {
   "display_name": "tensorflow-2.15.0",
   "language": "python",
   "name": "tensorflow-2.15.0"
  },
  "language_info": {
   "codemirror_mode": {
    "name": "ipython",
    "version": 3
   },
   "file_extension": ".py",
   "mimetype": "text/x-python",
   "name": "python",
   "nbconvert_exporter": "python",
   "pygments_lexer": "ipython3",
   "version": "3.9.18"
  }
 },
 "nbformat": 4,
 "nbformat_minor": 4
}
